{
 "cells": [
  {
   "cell_type": "code",
   "execution_count": 1,
   "id": "8b722bf5-9405-4d4b-8d53-734fbca3edbe",
   "metadata": {},
   "outputs": [],
   "source": [
    "import qiskit"
   ]
  },
  {
   "cell_type": "code",
   "execution_count": 2,
   "id": "a60b4aea-b573-4f0d-9c10-c82e41a50712",
   "metadata": {},
   "outputs": [
    {
     "data": {
      "text/plain": [
       "{'qiskit-terra': '0.25.1', 'qiskit': '0.44.1', 'qiskit-aer': None, 'qiskit-ignis': None, 'qiskit-ibmq-provider': None, 'qiskit-nature': None, 'qiskit-finance': None, 'qiskit-optimization': None, 'qiskit-machine-learning': None}"
      ]
     },
     "execution_count": 2,
     "metadata": {},
     "output_type": "execute_result"
    }
   ],
   "source": [
    "qiskit.__qiskit_version__"
   ]
  },
  {
   "cell_type": "code",
   "execution_count": 3,
   "id": "e32cd1de-71c8-4e89-8b74-61083db0f84f",
   "metadata": {},
   "outputs": [],
   "source": [
    "from qiskit import IBMQ"
   ]
  },
  {
   "cell_type": "code",
   "execution_count": 4,
   "id": "747e937c-83f8-4e32-8633-b99d1b35dffa",
   "metadata": {},
   "outputs": [
    {
     "ename": "MissingOptionalLibraryError",
     "evalue": "\"The 'qiskit-ibmq-provider' library is required to use 'IBMQ provider'. You can install it with 'pip install qiskit-ibmq-provider'.\"",
     "output_type": "error",
     "traceback": [
      "\u001b[1;31m---------------------------------------------------------------------------\u001b[0m",
      "\u001b[1;31mImportError\u001b[0m                               Traceback (most recent call last)",
      "File \u001b[1;32m~\\AppData\\Local\\miniconda3\\Lib\\site-packages\\qiskit\\__init__.py:169\u001b[0m, in \u001b[0;36mIBMQWrapper.__getattr__\u001b[1;34m(self, attr)\u001b[0m\n\u001b[0;32m    168\u001b[0m \u001b[38;5;28;01mtry\u001b[39;00m:\n\u001b[1;32m--> 169\u001b[0m     \u001b[38;5;28;01mfrom\u001b[39;00m \u001b[38;5;21;01mqiskit\u001b[39;00m\u001b[38;5;21;01m.\u001b[39;00m\u001b[38;5;21;01mproviders\u001b[39;00m \u001b[38;5;28;01mimport\u001b[39;00m ibmq\n\u001b[0;32m    171\u001b[0m     \u001b[38;5;28mself\u001b[39m\u001b[38;5;241m.\u001b[39mibmq \u001b[38;5;241m=\u001b[39m ibmq\u001b[38;5;241m.\u001b[39mIBMQ\n",
      "\u001b[1;31mImportError\u001b[0m: cannot import name 'ibmq' from 'qiskit.providers' (C:\\Users\\sdonthi\\AppData\\Local\\miniconda3\\Lib\\site-packages\\qiskit\\providers\\__init__.py)",
      "\nThe above exception was the direct cause of the following exception:\n",
      "\u001b[1;31mMissingOptionalLibraryError\u001b[0m               Traceback (most recent call last)",
      "Cell \u001b[1;32mIn[4], line 1\u001b[0m\n\u001b[1;32m----> 1\u001b[0m \u001b[43mIBMQ\u001b[49m\u001b[38;5;241;43m.\u001b[39;49m\u001b[43msave_account\u001b[49m(\u001b[38;5;124m'\u001b[39m\u001b[38;5;124m89e6b260ac261e1fb7595e7498deb728ffddb39721a7627c524112b557023be961915c64698130e6c6cf295ea5128507235b61434d371b2fcb48eda382061a7c\u001b[39m\u001b[38;5;124m'\u001b[39m)\n",
      "File \u001b[1;32m~\\AppData\\Local\\miniconda3\\Lib\\site-packages\\qiskit\\__init__.py:183\u001b[0m, in \u001b[0;36mIBMQWrapper.__getattr__\u001b[1;34m(self, attr)\u001b[0m\n\u001b[0;32m    172\u001b[0m         warnings\u001b[38;5;241m.\u001b[39mwarn(\n\u001b[0;32m    173\u001b[0m             \u001b[38;5;124m\"\u001b[39m\u001b[38;5;124mThe qiskit.IBMQ entrypoint and the qiskit-ibmq-provider package (\u001b[39m\u001b[38;5;124m\"\u001b[39m\n\u001b[0;32m    174\u001b[0m             \u001b[38;5;124m\"\u001b[39m\u001b[38;5;124maccessible from \u001b[39m\u001b[38;5;124m'\u001b[39m\u001b[38;5;124mqiskit.providers.ibmq`) are deprecated and will be removed \u001b[39m\u001b[38;5;124m\"\u001b[39m\n\u001b[1;32m   (...)\u001b[0m\n\u001b[0;32m    180\u001b[0m             stacklevel\u001b[38;5;241m=\u001b[39m\u001b[38;5;241m2\u001b[39m,\n\u001b[0;32m    181\u001b[0m         )\n\u001b[0;32m    182\u001b[0m     \u001b[38;5;28;01mexcept\u001b[39;00m \u001b[38;5;167;01mImportError\u001b[39;00m \u001b[38;5;28;01mas\u001b[39;00m ex:\n\u001b[1;32m--> 183\u001b[0m         \u001b[38;5;28;01mraise\u001b[39;00m MissingOptionalLibraryError(\n\u001b[0;32m    184\u001b[0m             \u001b[38;5;124m\"\u001b[39m\u001b[38;5;124mqiskit-ibmq-provider\u001b[39m\u001b[38;5;124m\"\u001b[39m, \u001b[38;5;124m\"\u001b[39m\u001b[38;5;124mIBMQ provider\u001b[39m\u001b[38;5;124m\"\u001b[39m, \u001b[38;5;124m\"\u001b[39m\u001b[38;5;124mpip install qiskit-ibmq-provider\u001b[39m\u001b[38;5;124m\"\u001b[39m\n\u001b[0;32m    185\u001b[0m         ) \u001b[38;5;28;01mfrom\u001b[39;00m \u001b[38;5;21;01mex\u001b[39;00m\n\u001b[0;32m    186\u001b[0m \u001b[38;5;28;01mreturn\u001b[39;00m \u001b[38;5;28mgetattr\u001b[39m(\u001b[38;5;28mself\u001b[39m\u001b[38;5;241m.\u001b[39mibmq, attr)\n",
      "\u001b[1;31mMissingOptionalLibraryError\u001b[0m: \"The 'qiskit-ibmq-provider' library is required to use 'IBMQ provider'. You can install it with 'pip install qiskit-ibmq-provider'.\""
     ]
    }
   ],
   "source": [
    "IBMQ.save_account('') #get API key from https://quantum-computing.ibm.com/"
   ]
  },
  {
   "cell_type": "code",
   "execution_count": 6,
   "id": "686d53e9-e157-4f55-ac2b-5e984e69657f",
   "metadata": {},
   "outputs": [
    {
     "name": "stdout",
     "output_type": "stream",
     "text": [
      "Collecting qiskit-ibmq-provider\n",
      "  Using cached qiskit_ibmq_provider-0.20.2-py3-none-any.whl (241 kB)\n",
      "Requirement already satisfied: qiskit-terra>=0.18.0 in c:\\users\\sdonthi\\appdata\\local\\miniconda3\\lib\\site-packages (from qiskit-ibmq-provider) (0.25.1)\n",
      "Requirement already satisfied: requests>=2.19 in c:\\users\\sdonthi\\appdata\\local\\miniconda3\\lib\\site-packages (from qiskit-ibmq-provider) (2.31.0)\n",
      "Collecting requests-ntlm<=1.1.0 (from qiskit-ibmq-provider)\n",
      "  Using cached requests_ntlm-1.1.0-py2.py3-none-any.whl (5.7 kB)\n",
      "Requirement already satisfied: numpy<1.24 in c:\\users\\sdonthi\\appdata\\local\\miniconda3\\lib\\site-packages (from qiskit-ibmq-provider) (1.23.5)\n",
      "Requirement already satisfied: urllib3>=1.21.1 in c:\\users\\sdonthi\\appdata\\local\\miniconda3\\lib\\site-packages (from qiskit-ibmq-provider) (1.26.16)\n",
      "Requirement already satisfied: python-dateutil>=2.8.0 in c:\\users\\sdonthi\\appdata\\local\\miniconda3\\lib\\site-packages (from qiskit-ibmq-provider) (2.8.2)\n",
      "Requirement already satisfied: websocket-client>=1.5.1 in c:\\users\\sdonthi\\appdata\\local\\miniconda3\\lib\\site-packages (from qiskit-ibmq-provider) (1.6.3)\n",
      "Requirement already satisfied: websockets>=10.0 in c:\\users\\sdonthi\\appdata\\local\\miniconda3\\lib\\site-packages (from qiskit-ibmq-provider) (11.0.3)\n",
      "Requirement already satisfied: six>=1.5 in c:\\users\\sdonthi\\appdata\\local\\miniconda3\\lib\\site-packages (from python-dateutil>=2.8.0->qiskit-ibmq-provider) (1.16.0)\n",
      "Requirement already satisfied: rustworkx>=0.13.0 in c:\\users\\sdonthi\\appdata\\local\\miniconda3\\lib\\site-packages (from qiskit-terra>=0.18.0->qiskit-ibmq-provider) (0.13.1)\n",
      "Requirement already satisfied: ply>=3.10 in c:\\users\\sdonthi\\appdata\\local\\miniconda3\\lib\\site-packages (from qiskit-terra>=0.18.0->qiskit-ibmq-provider) (3.11)\n",
      "Requirement already satisfied: psutil>=5 in c:\\users\\sdonthi\\appdata\\local\\miniconda3\\lib\\site-packages (from qiskit-terra>=0.18.0->qiskit-ibmq-provider) (5.9.5)\n",
      "Requirement already satisfied: scipy>=1.5 in c:\\users\\sdonthi\\appdata\\local\\miniconda3\\lib\\site-packages (from qiskit-terra>=0.18.0->qiskit-ibmq-provider) (1.11.3)\n",
      "Requirement already satisfied: sympy>=1.3 in c:\\users\\sdonthi\\appdata\\local\\miniconda3\\lib\\site-packages (from qiskit-terra>=0.18.0->qiskit-ibmq-provider) (1.12)\n",
      "Requirement already satisfied: dill>=0.3 in c:\\users\\sdonthi\\appdata\\local\\miniconda3\\lib\\site-packages (from qiskit-terra>=0.18.0->qiskit-ibmq-provider) (0.3.7)\n",
      "Requirement already satisfied: stevedore>=3.0.0 in c:\\users\\sdonthi\\appdata\\local\\miniconda3\\lib\\site-packages (from qiskit-terra>=0.18.0->qiskit-ibmq-provider) (5.1.0)\n",
      "Requirement already satisfied: charset-normalizer<4,>=2 in c:\\users\\sdonthi\\appdata\\local\\miniconda3\\lib\\site-packages (from requests>=2.19->qiskit-ibmq-provider) (2.0.4)\n",
      "Requirement already satisfied: idna<4,>=2.5 in c:\\users\\sdonthi\\appdata\\local\\miniconda3\\lib\\site-packages (from requests>=2.19->qiskit-ibmq-provider) (3.4)\n",
      "Requirement already satisfied: certifi>=2017.4.17 in c:\\users\\sdonthi\\appdata\\local\\miniconda3\\lib\\site-packages (from requests>=2.19->qiskit-ibmq-provider) (2023.5.7)\n",
      "Collecting ntlm-auth>=1.0.2 (from requests-ntlm<=1.1.0->qiskit-ibmq-provider)\n",
      "  Using cached ntlm_auth-1.5.0-py2.py3-none-any.whl (29 kB)\n",
      "Requirement already satisfied: cryptography>=1.3 in c:\\users\\sdonthi\\appdata\\local\\miniconda3\\lib\\site-packages (from requests-ntlm<=1.1.0->qiskit-ibmq-provider) (39.0.1)\n",
      "Requirement already satisfied: cffi>=1.12 in c:\\users\\sdonthi\\appdata\\local\\miniconda3\\lib\\site-packages (from cryptography>=1.3->requests-ntlm<=1.1.0->qiskit-ibmq-provider) (1.15.1)\n",
      "Requirement already satisfied: pbr!=2.1.0,>=2.0.0 in c:\\users\\sdonthi\\appdata\\local\\miniconda3\\lib\\site-packages (from stevedore>=3.0.0->qiskit-terra>=0.18.0->qiskit-ibmq-provider) (5.11.1)\n",
      "Requirement already satisfied: mpmath>=0.19 in c:\\users\\sdonthi\\appdata\\local\\miniconda3\\lib\\site-packages (from sympy>=1.3->qiskit-terra>=0.18.0->qiskit-ibmq-provider) (1.3.0)\n",
      "Requirement already satisfied: pycparser in c:\\users\\sdonthi\\appdata\\local\\miniconda3\\lib\\site-packages (from cffi>=1.12->cryptography>=1.3->requests-ntlm<=1.1.0->qiskit-ibmq-provider) (2.21)\n",
      "Installing collected packages: ntlm-auth, requests-ntlm, qiskit-ibmq-provider\n",
      "Successfully installed ntlm-auth-1.5.0 qiskit-ibmq-provider-0.20.2 requests-ntlm-1.1.0\n",
      "Note: you may need to restart the kernel to use updated packages.\n"
     ]
    }
   ],
   "source": [
    "pip install qiskit-ibmq-provider"
   ]
  },
  {
   "cell_type": "code",
   "execution_count": 7,
   "id": "c81fbd32-a3ec-4d0a-871d-8dc0da9f9796",
   "metadata": {},
   "outputs": [
    {
     "name": "stderr",
     "output_type": "stream",
     "text": [
      "C:\\Users\\sdonthi\\AppData\\Local\\Temp\\ipykernel_33332\\4688294.py:1: DeprecationWarning: The package qiskit.providers.ibmq is being deprecated. Please see https://ibm.biz/provider_migration_guide to get instructions on how to migrate to qiskit-ibm-provider (https://github.com/Qiskit/qiskit-ibm-provider) and qiskit-ibm-runtime (https://github.com/Qiskit/qiskit-ibm-runtime).\n",
      "  IBMQ.save_account('89e6b260ac261e1fb7595e7498deb728ffddb39721a7627c524112b557023be961915c64698130e6c6cf295ea5128507235b61434d371b2fcb48eda382061a7c')\n",
      "C:\\Users\\sdonthi\\AppData\\Local\\Temp\\ipykernel_33332\\4688294.py:1: DeprecationWarning: The qiskit.IBMQ entrypoint and the qiskit-ibmq-provider package (accessible from 'qiskit.providers.ibmq`) are deprecated and will be removed in a future release. Instead you should use the qiskit-ibm-provider package which is accessible from 'qiskit_ibm_provider'. You can install it with 'pip install qiskit_ibm_provider'. Just replace 'qiskit.IBMQ' with 'qiskit_ibm_provider.IBMProvider'\n",
      "  IBMQ.save_account('89e6b260ac261e1fb7595e7498deb728ffddb39721a7627c524112b557023be961915c64698130e6c6cf295ea5128507235b61434d371b2fcb48eda382061a7c')\n"
     ]
    }
   ],
   "source": [
    "IBMQ.save_account('') #get API key from https://quantum-computing.ibm.com/"
   ]
  },
  {
   "cell_type": "code",
   "execution_count": 9,
   "id": "dde26e10-c82b-4d6b-b6bd-5e399b7b6f93",
   "metadata": {},
   "outputs": [
    {
     "name": "stdout",
     "output_type": "stream",
     "text": [
      "Collecting qiskit_ibm_provider\n",
      "  Downloading qiskit_ibm_provider-0.7.0-py3-none-any.whl (242 kB)\n",
      "                                              0.0/242.9 kB ? eta -:--:--\n",
      "     ----                                  30.7/242.9 kB 435.7 kB/s eta 0:00:01\n",
      "     --------------------------------       204.8/242.9 kB 2.1 MB/s eta 0:00:01\n",
      "     -------------------------------------- 242.9/242.9 kB 2.5 MB/s eta 0:00:00\n",
      "Requirement already satisfied: qiskit>=0.44.1 in c:\\users\\sdonthi\\appdata\\local\\miniconda3\\lib\\site-packages (from qiskit_ibm_provider) (0.44.1)\n",
      "Requirement already satisfied: requests>=2.19 in c:\\users\\sdonthi\\appdata\\local\\miniconda3\\lib\\site-packages (from qiskit_ibm_provider) (2.31.0)\n",
      "Requirement already satisfied: requests-ntlm>=1.1.0 in c:\\users\\sdonthi\\appdata\\local\\miniconda3\\lib\\site-packages (from qiskit_ibm_provider) (1.1.0)\n",
      "Requirement already satisfied: numpy>=1.13 in c:\\users\\sdonthi\\appdata\\local\\miniconda3\\lib\\site-packages (from qiskit_ibm_provider) (1.23.5)\n",
      "Requirement already satisfied: urllib3>=1.21.1 in c:\\users\\sdonthi\\appdata\\local\\miniconda3\\lib\\site-packages (from qiskit_ibm_provider) (1.26.16)\n",
      "Requirement already satisfied: python-dateutil>=2.8.0 in c:\\users\\sdonthi\\appdata\\local\\miniconda3\\lib\\site-packages (from qiskit_ibm_provider) (2.8.2)\n",
      "Requirement already satisfied: websocket-client>=1.5.1 in c:\\users\\sdonthi\\appdata\\local\\miniconda3\\lib\\site-packages (from qiskit_ibm_provider) (1.6.3)\n",
      "Requirement already satisfied: websockets>=10.0 in c:\\users\\sdonthi\\appdata\\local\\miniconda3\\lib\\site-packages (from qiskit_ibm_provider) (11.0.3)\n",
      "Collecting typing-extensions>=4.3 (from qiskit_ibm_provider)\n",
      "  Downloading typing_extensions-4.8.0-py3-none-any.whl (31 kB)\n",
      "Requirement already satisfied: six>=1.5 in c:\\users\\sdonthi\\appdata\\local\\miniconda3\\lib\\site-packages (from python-dateutil>=2.8.0->qiskit_ibm_provider) (1.16.0)\n",
      "Requirement already satisfied: qiskit-terra==0.25.1 in c:\\users\\sdonthi\\appdata\\local\\miniconda3\\lib\\site-packages (from qiskit>=0.44.1->qiskit_ibm_provider) (0.25.1)\n",
      "Requirement already satisfied: rustworkx>=0.13.0 in c:\\users\\sdonthi\\appdata\\local\\miniconda3\\lib\\site-packages (from qiskit-terra==0.25.1->qiskit>=0.44.1->qiskit_ibm_provider) (0.13.1)\n",
      "Requirement already satisfied: ply>=3.10 in c:\\users\\sdonthi\\appdata\\local\\miniconda3\\lib\\site-packages (from qiskit-terra==0.25.1->qiskit>=0.44.1->qiskit_ibm_provider) (3.11)\n",
      "Requirement already satisfied: psutil>=5 in c:\\users\\sdonthi\\appdata\\local\\miniconda3\\lib\\site-packages (from qiskit-terra==0.25.1->qiskit>=0.44.1->qiskit_ibm_provider) (5.9.5)\n",
      "Requirement already satisfied: scipy>=1.5 in c:\\users\\sdonthi\\appdata\\local\\miniconda3\\lib\\site-packages (from qiskit-terra==0.25.1->qiskit>=0.44.1->qiskit_ibm_provider) (1.11.3)\n",
      "Requirement already satisfied: sympy>=1.3 in c:\\users\\sdonthi\\appdata\\local\\miniconda3\\lib\\site-packages (from qiskit-terra==0.25.1->qiskit>=0.44.1->qiskit_ibm_provider) (1.12)\n",
      "Requirement already satisfied: dill>=0.3 in c:\\users\\sdonthi\\appdata\\local\\miniconda3\\lib\\site-packages (from qiskit-terra==0.25.1->qiskit>=0.44.1->qiskit_ibm_provider) (0.3.7)\n",
      "Requirement already satisfied: stevedore>=3.0.0 in c:\\users\\sdonthi\\appdata\\local\\miniconda3\\lib\\site-packages (from qiskit-terra==0.25.1->qiskit>=0.44.1->qiskit_ibm_provider) (5.1.0)\n",
      "Requirement already satisfied: charset-normalizer<4,>=2 in c:\\users\\sdonthi\\appdata\\local\\miniconda3\\lib\\site-packages (from requests>=2.19->qiskit_ibm_provider) (2.0.4)\n",
      "Requirement already satisfied: idna<4,>=2.5 in c:\\users\\sdonthi\\appdata\\local\\miniconda3\\lib\\site-packages (from requests>=2.19->qiskit_ibm_provider) (3.4)\n",
      "Requirement already satisfied: certifi>=2017.4.17 in c:\\users\\sdonthi\\appdata\\local\\miniconda3\\lib\\site-packages (from requests>=2.19->qiskit_ibm_provider) (2023.5.7)\n",
      "Requirement already satisfied: ntlm-auth>=1.0.2 in c:\\users\\sdonthi\\appdata\\local\\miniconda3\\lib\\site-packages (from requests-ntlm>=1.1.0->qiskit_ibm_provider) (1.5.0)\n",
      "Requirement already satisfied: cryptography>=1.3 in c:\\users\\sdonthi\\appdata\\local\\miniconda3\\lib\\site-packages (from requests-ntlm>=1.1.0->qiskit_ibm_provider) (39.0.1)\n",
      "Requirement already satisfied: cffi>=1.12 in c:\\users\\sdonthi\\appdata\\local\\miniconda3\\lib\\site-packages (from cryptography>=1.3->requests-ntlm>=1.1.0->qiskit_ibm_provider) (1.15.1)\n",
      "Requirement already satisfied: pycparser in c:\\users\\sdonthi\\appdata\\local\\miniconda3\\lib\\site-packages (from cffi>=1.12->cryptography>=1.3->requests-ntlm>=1.1.0->qiskit_ibm_provider) (2.21)\n",
      "Requirement already satisfied: pbr!=2.1.0,>=2.0.0 in c:\\users\\sdonthi\\appdata\\local\\miniconda3\\lib\\site-packages (from stevedore>=3.0.0->qiskit-terra==0.25.1->qiskit>=0.44.1->qiskit_ibm_provider) (5.11.1)\n",
      "Requirement already satisfied: mpmath>=0.19 in c:\\users\\sdonthi\\appdata\\local\\miniconda3\\lib\\site-packages (from sympy>=1.3->qiskit-terra==0.25.1->qiskit>=0.44.1->qiskit_ibm_provider) (1.3.0)\n",
      "Installing collected packages: typing-extensions, qiskit_ibm_provider\n",
      "Successfully installed qiskit_ibm_provider-0.7.0 typing-extensions-4.8.0\n",
      "Note: you may need to restart the kernel to use updated packages.\n"
     ]
    }
   ],
   "source": [
    "pip install qiskit_ibm_provider"
   ]
  },
  {
   "cell_type": "code",
   "execution_count": 12,
   "id": "37e7a5a8-94d4-4003-a9d5-4e2337c5eae9",
   "metadata": {},
   "outputs": [],
   "source": [
    "from qiskit_ibm_provider import IBMProvider"
   ]
  },
  {
   "cell_type": "code",
   "execution_count": 13,
   "id": "50a21628-0340-4e42-860a-08aca3957da5",
   "metadata": {},
   "outputs": [
    {
     "name": "stderr",
     "output_type": "stream",
     "text": [
      "configrc.store_credentials:WARNING:2023-10-02 12:24:04,388: Credentials already present. Set overwrite=True to overwrite.\n"
     ]
    }
   ],
   "source": [
    "IBMQ.save_account('89e6b260ac261e1fb7595e7498deb728ffddb39721a7627c524112b557023be961915c64698130e6c6cf295ea5128507235b61434d371b2fcb48eda382061a7c')"
   ]
  },
  {
   "cell_type": "code",
   "execution_count": 14,
   "id": "a8e66040-011e-4852-b8e2-c4d36207213b",
   "metadata": {},
   "outputs": [
    {
     "data": {
      "text/plain": [
       "<AccountProvider for IBMQ(hub='ibm-q', group='open', project='main')>"
      ]
     },
     "execution_count": 14,
     "metadata": {},
     "output_type": "execute_result"
    }
   ],
   "source": [
    "IBMQ.load_account()"
   ]
  },
  {
   "cell_type": "code",
   "execution_count": null,
   "id": "ed587949-fc76-48ef-b0d3-51216a873f5e",
   "metadata": {},
   "outputs": [],
   "source": []
  }
 ],
 "metadata": {
  "kernelspec": {
   "display_name": "Python 3 (ipykernel)",
   "language": "python",
   "name": "python3"
  },
  "language_info": {
   "codemirror_mode": {
    "name": "ipython",
    "version": 3
   },
   "file_extension": ".py",
   "mimetype": "text/x-python",
   "name": "python",
   "nbconvert_exporter": "python",
   "pygments_lexer": "ipython3",
   "version": "3.11.4"
  }
 },
 "nbformat": 4,
 "nbformat_minor": 5
}
